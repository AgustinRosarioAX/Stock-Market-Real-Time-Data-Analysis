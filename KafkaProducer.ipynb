{
 "cells": [
  {
   "cell_type": "code",
   "execution_count": 6,
   "id": "0c104580-8d39-4923-b602-b71b83c001c1",
   "metadata": {},
   "outputs": [
    {
     "name": "stdout",
     "output_type": "stream",
     "text": [
      "         date   open   high    low  close    volume Name\n",
      "0  2013-02-08  15.07  15.12  14.63  14.75   8407500  AAL\n",
      "1  2013-02-11  14.89  15.01  14.26  14.46   8882000  AAL\n",
      "2  2013-02-12  14.45  14.51  14.10  14.27   8126000  AAL\n",
      "3  2013-02-13  14.30  14.94  14.25  14.66  10259500  AAL\n",
      "4  2013-02-14  14.94  14.96  13.16  13.99  31879900  AAL\n"
     ]
    }
   ],
   "source": [
    "import pandas as pd\n",
    "from confluent_kafka import Producer\n",
    "from time import sleep\n",
    "from json import dumps\n",
    "\n",
    "# Initialize Kafka Producer\n",
    "producer = Producer({\n",
    "    'bootstrap.servers': '13.42.36.106:9092'  # ip address\n",
    "})\n",
    "\n",
    "# Read data from CSV\n",
    "file_path = \"C:/Users/agnes/Downloads/archive (1)/all_stocks_5yr.csv\"\n",
    "#file_path = \"C:/Users/agnes/Downloads/indexProcessed.csv\"\n",
    "df = pd.read_csv(file_path)\n",
    "print(df.head())\n",
    "\n",
    "callback function to handle delivery reports\n",
    "def delivery_report(err, msg):\n",
    "    if err is not None:\n",
    "        print(f\"Message delivery failed: {err}\")\n",
    "    else:\n",
    "        print(f\"Message delivered to {msg.topic()} [{msg.partition()}]\")\n",
    "\n",
    "# continuously send messages to Kafka\n",
    "while True:\n",
    "    dict_stock = df.sample(1).to_dict(orient=\"records\")[0]\n",
    "    message_value = dumps(dict_stock)  # Convert dictionary to JSON string\n",
    "    producer.produce('demo_test', value=message_value, callback=delivery_report)\n",
    "    producer.poll(1)  # Wait for any outstanding messages to be delivered\n",
    "    sleep(1)\n",
    "\n",
    "# to ensure all messages are delivered\n",
    "producer.flush()\n"
   ]
  },
  {
   "cell_type": "code",
   "execution_count": null,
   "id": "0c5c1e8c-0388-45a6-a34b-37dd509e394d",
   "metadata": {},
   "outputs": [],
   "source": []
  },
  {
   "cell_type": "code",
   "execution_count": null,
   "id": "22514f0d-7ec5-4915-a7e9-6d9978019eb3",
   "metadata": {},
   "outputs": [],
   "source": []
  }
 ],
 "metadata": {
  "kernelspec": {
   "display_name": "Python (local)",
   "language": "python",
   "name": "mynewkernal"
  },
  "language_info": {
   "codemirror_mode": {
    "name": "ipython",
    "version": 3
   },
   "file_extension": ".py",
   "mimetype": "text/x-python",
   "name": "python",
   "nbconvert_exporter": "python",
   "pygments_lexer": "ipython3",
   "version": "3.12.4"
  }
 },
 "nbformat": 4,
 "nbformat_minor": 5
}
