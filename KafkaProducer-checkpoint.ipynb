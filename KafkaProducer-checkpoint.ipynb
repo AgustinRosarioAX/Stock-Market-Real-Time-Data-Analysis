{
 "cells": [
  {
   "cell_type": "code",
   "execution_count": 68,
   "id": "0c104580-8d39-4923-b602-b71b83c001c1",
   "metadata": {},
   "outputs": [
    {
     "name": "stdout",
     "output_type": "stream",
     "text": [
      "  Index        Date         Open         High          Low        Close  \\\n",
      "0   HSI  1986-12-31  2568.300049  2568.300049  2568.300049  2568.300049   \n",
      "1   HSI  1987-01-02  2540.100098  2540.100098  2540.100098  2540.100098   \n",
      "2   HSI  1987-01-05  2552.399902  2552.399902  2552.399902  2552.399902   \n",
      "3   HSI  1987-01-06  2583.899902  2583.899902  2583.899902  2583.899902   \n",
      "4   HSI  1987-01-07  2607.100098  2607.100098  2607.100098  2607.100098   \n",
      "\n",
      "     Adj Close  Volume    CloseUSD  \n",
      "0  2568.300049     0.0  333.879006  \n",
      "1  2540.100098     0.0  330.213013  \n",
      "2  2552.399902     0.0  331.811987  \n",
      "3  2583.899902     0.0  335.906987  \n",
      "4  2607.100098     0.0  338.923013  \n",
      "Message delivered to demo_test [0]\n",
      "Message delivered to demo_test [0]\n",
      "Message delivered to demo_test [0]\n",
      "Message delivered to demo_test [0]\n",
      "Message delivered to demo_test [0]\n",
      "Message delivered to demo_test [0]\n",
      "Message delivered to demo_test [0]\n"
     ]
    },
    {
     "ename": "KeyboardInterrupt",
     "evalue": "",
     "output_type": "error",
     "traceback": [
      "\u001b[1;31m---------------------------------------------------------------------------\u001b[0m",
      "\u001b[1;31mKeyboardInterrupt\u001b[0m                         Traceback (most recent call last)",
      "Cell \u001b[1;32mIn[68], line 28\u001b[0m\n\u001b[0;32m     26\u001b[0m     message_value \u001b[38;5;241m=\u001b[39m dumps(dict_stock)  \u001b[38;5;66;03m# Convert dictionary to JSON string\u001b[39;00m\n\u001b[0;32m     27\u001b[0m     producer\u001b[38;5;241m.\u001b[39mproduce(\u001b[38;5;124m'\u001b[39m\u001b[38;5;124mdemo_test\u001b[39m\u001b[38;5;124m'\u001b[39m, value\u001b[38;5;241m=\u001b[39mmessage_value, callback\u001b[38;5;241m=\u001b[39mdelivery_report)\n\u001b[1;32m---> 28\u001b[0m     \u001b[43mproducer\u001b[49m\u001b[38;5;241;43m.\u001b[39;49m\u001b[43mpoll\u001b[49m\u001b[43m(\u001b[49m\u001b[38;5;241;43m1\u001b[39;49m\u001b[43m)\u001b[49m  \u001b[38;5;66;03m# Wait for any outstanding messages to be delivered\u001b[39;00m\n\u001b[0;32m     29\u001b[0m     sleep(\u001b[38;5;241m1\u001b[39m)\n\u001b[0;32m     31\u001b[0m \u001b[38;5;66;03m# Ensure all messages are delivered\u001b[39;00m\n",
      "Cell \u001b[1;32mIn[68], line 17\u001b[0m, in \u001b[0;36mdelivery_report\u001b[1;34m(err, msg)\u001b[0m\n\u001b[0;32m     14\u001b[0m \u001b[38;5;28mprint\u001b[39m(df\u001b[38;5;241m.\u001b[39mhead())\n\u001b[0;32m     16\u001b[0m \u001b[38;5;66;03m# Define a callback function to handle delivery reports\u001b[39;00m\n\u001b[1;32m---> 17\u001b[0m \u001b[38;5;28;01mdef\u001b[39;00m \u001b[38;5;21mdelivery_report\u001b[39m(err, msg):\n\u001b[0;32m     18\u001b[0m     \u001b[38;5;28;01mif\u001b[39;00m err \u001b[38;5;129;01mis\u001b[39;00m \u001b[38;5;129;01mnot\u001b[39;00m \u001b[38;5;28;01mNone\u001b[39;00m:\n\u001b[0;32m     19\u001b[0m         \u001b[38;5;28mprint\u001b[39m(\u001b[38;5;124mf\u001b[39m\u001b[38;5;124m\"\u001b[39m\u001b[38;5;124mMessage delivery failed: \u001b[39m\u001b[38;5;132;01m{\u001b[39;00merr\u001b[38;5;132;01m}\u001b[39;00m\u001b[38;5;124m\"\u001b[39m)\n",
      "\u001b[1;31mKeyboardInterrupt\u001b[0m: "
     ]
    }
   ],
   "source": [
    "import pandas as pd\n",
    "from confluent_kafka import Producer\n",
    "from time import sleep\n",
    "from json import dumps\n",
    "\n",
    "# Initialize Kafka Producer\n",
    "producer = Producer({\n",
    "    'bootstrap.servers': '13.42.36.106:9092'  # ip address\n",
    "})\n",
    "\n",
    "# Read data from CSV\n",
    "file_path = \"C:/Users/agnes/Downloads/indexProcessed.csv\"\n",
    "df = pd.read_csv(file_path)\n",
    "print(df.head())\n",
    "\n",
    "# callback function to handle delivery reports\n",
    "def delivery_report(err, msg):\n",
    "    if err is not None:\n",
    "        print(f\"Message delivery failed: {err}\")\n",
    "    else:\n",
    "        print(f\"Message delivered to {msg.topic()} [{msg.partition()}]\")\n",
    "\n",
    "# continuously send messages to Kafka\n",
    "while True:\n",
    "    dict_stock = df.sample(1).to_dict(orient=\"records\")[0]\n",
    "    message_value = dumps(dict_stock)  # Convert dictionary to JSON string\n",
    "    producer.produce('demo_test', value=message_value, callback=delivery_report)\n",
    "    producer.poll(1)  # Wait for any outstanding messages to be delivered\n",
    "    sleep(1)\n",
    "\n",
    "# to ensure all messages are delivered\n",
    "producer.flush()\n"
   ]
  },
  {
   "cell_type": "code",
   "execution_count": null,
   "id": "0c5c1e8c-0388-45a6-a34b-37dd509e394d",
   "metadata": {},
   "outputs": [],
   "source": []
  },
  {
   "cell_type": "code",
   "execution_count": null,
   "id": "22514f0d-7ec5-4915-a7e9-6d9978019eb3",
   "metadata": {},
   "outputs": [],
   "source": []
  }
 ],
 "metadata": {
  "kernelspec": {
   "display_name": "Python (local)",
   "language": "python",
   "name": "mynewkernal"
  },
  "language_info": {
   "codemirror_mode": {
    "name": "ipython",
    "version": 3
   },
   "file_extension": ".py",
   "mimetype": "text/x-python",
   "name": "python",
   "nbconvert_exporter": "python",
   "pygments_lexer": "ipython3",
   "version": "3.12.4"
  }
 },
 "nbformat": 4,
 "nbformat_minor": 5
}
